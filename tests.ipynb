{
 "cells": [
  {
   "cell_type": "code",
   "execution_count": 1,
   "metadata": {
    "collapsed": false,
    "deletable": true,
    "editable": true
   },
   "outputs": [],
   "source": [
    "import wanglab_instruments as wl"
   ]
  },
  {
   "cell_type": "code",
   "execution_count": 2,
   "metadata": {
    "collapsed": true,
    "deletable": true,
    "editable": true
   },
   "outputs": [],
   "source": [
    "# Instantiate with default values\n",
    "hp = wl.function_generators.Hp8647(1)\n",
    "afg = wl.function_generators.Tek3102(2)\n",
    "scope = wl.oscilloscopes.Tek3034(3)\n",
    "rsa = wl.spectrum_analyzers.Tek5103(4)"
   ]
  },
  {
   "cell_type": "code",
   "execution_count": 3,
   "metadata": {
    "collapsed": false,
    "deletable": true,
    "editable": true
   },
   "outputs": [
    {
     "name": "stdout",
     "output_type": "stream",
     "text": [
      "<class 'wanglab_instruments.function_generators.Hp8647'>\n",
      "Hp8647(1, 'MHz', 'dBm', max_power=13)\n"
     ]
    }
   ],
   "source": [
    "print(type(hp))\n",
    "print(hp)"
   ]
  },
  {
   "cell_type": "code",
   "execution_count": 4,
   "metadata": {
    "collapsed": false,
    "deletable": true,
    "editable": true
   },
   "outputs": [
    {
     "name": "stdout",
     "output_type": "stream",
     "text": [
      "<class 'wanglab_instruments.function_generators.Tek3102'>\n",
      "Tek3102(2, 'MHz', 'V', channel=1)\n"
     ]
    }
   ],
   "source": [
    "print(type(afg))\n",
    "print(afg)"
   ]
  },
  {
   "cell_type": "code",
   "execution_count": 5,
   "metadata": {
    "collapsed": false,
    "deletable": true,
    "editable": true
   },
   "outputs": [
    {
     "name": "stdout",
     "output_type": "stream",
     "text": [
      "<class 'wanglab_instruments.oscilloscopes.Tek3034'>\n",
      "Tek3034(3)\n"
     ]
    }
   ],
   "source": [
    "print(type(scope))\n",
    "print(scope)"
   ]
  },
  {
   "cell_type": "code",
   "execution_count": 6,
   "metadata": {
    "collapsed": false,
    "deletable": true,
    "editable": true
   },
   "outputs": [
    {
     "name": "stdout",
     "output_type": "stream",
     "text": [
      "<class 'wanglab_instruments.spectrum_analyzers.Tek5103'>\n",
      "Tek5103(4, 'MHz', 'us')\n"
     ]
    }
   ],
   "source": [
    "print(type(rsa))\n",
    "print(rsa)"
   ]
  },
  {
   "cell_type": "code",
   "execution_count": 7,
   "metadata": {
    "collapsed": true,
    "deletable": true,
    "editable": true
   },
   "outputs": [],
   "source": [
    "# 2 channel Tek3102\n",
    "afg1 = wl.function_generators.Tek3102(2)\n",
    "afg2 = wl.function_generators.Tek3102(2,channel=2)"
   ]
  },
  {
   "cell_type": "code",
   "execution_count": 8,
   "metadata": {
    "collapsed": false,
    "deletable": true,
    "editable": true
   },
   "outputs": [
    {
     "name": "stdout",
     "output_type": "stream",
     "text": [
      "<class 'wanglab_instruments.function_generators.Tek3102'>\n",
      "Tek3102(2, 'MHz', 'V', channel=1)\n"
     ]
    }
   ],
   "source": [
    "print(type(afg1))\n",
    "print(afg1)"
   ]
  },
  {
   "cell_type": "code",
   "execution_count": 9,
   "metadata": {
    "collapsed": false,
    "deletable": true,
    "editable": true
   },
   "outputs": [
    {
     "name": "stdout",
     "output_type": "stream",
     "text": [
      "<class 'wanglab_instruments.function_generators.Tek3102'>\n",
      "Tek3102(2, 'MHz', 'V', channel=2)\n"
     ]
    }
   ],
   "source": [
    "print(type(afg2))\n",
    "print(afg2)"
   ]
  }
 ],
 "metadata": {
  "kernelspec": {
   "display_name": "Python 3",
   "language": "python",
   "name": "python3"
  },
  "language_info": {
   "codemirror_mode": {
    "name": "ipython",
    "version": 3
   },
   "file_extension": ".py",
   "mimetype": "text/x-python",
   "name": "python",
   "nbconvert_exporter": "python",
   "pygments_lexer": "ipython3",
   "version": "3.4.3"
  }
 },
 "nbformat": 4,
 "nbformat_minor": 2
}
