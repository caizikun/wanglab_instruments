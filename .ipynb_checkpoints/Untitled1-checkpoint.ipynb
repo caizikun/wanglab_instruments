{
 "cells": [
  {
   "cell_type": "code",
   "execution_count": 1,
   "metadata": {
    "collapsed": true,
    "deletable": true,
    "editable": true
   },
   "outputs": [],
   "source": [
    "import re"
   ]
  },
  {
   "cell_type": "code",
   "execution_count": 2,
   "metadata": {
    "collapsed": false,
    "deletable": true,
    "editable": true
   },
   "outputs": [
    {
     "name": "stdout",
     "output_type": "stream",
     "text": [
      "make_docstrings.py  Untitled1.ipynb  \u001b[0m\u001b[01;34mwanglab_instruments\u001b[0m/\r\n",
      "setup.py            Untitled.ipynb\r\n"
     ]
    }
   ],
   "source": [
    "%ls"
   ]
  },
  {
   "cell_type": "code",
   "execution_count": 3,
   "metadata": {
    "collapsed": true
   },
   "outputs": [],
   "source": [
    "import make_docstrings as mk"
   ]
  },
  {
   "cell_type": "code",
   "execution_count": 4,
   "metadata": {
    "collapsed": true
   },
   "outputs": [],
   "source": [
    "funcs = mk.get_function_list('wanglab_instruments/spectrum_analyzers.py')"
   ]
  },
  {
   "cell_type": "code",
   "execution_count": 16,
   "metadata": {
    "collapsed": false
   },
   "outputs": [
    {
     "data": {
      "text/plain": [
       "0"
      ]
     },
     "execution_count": 16,
     "metadata": {},
     "output_type": "execute_result"
    }
   ],
   "source": [
    "mk.get_indent(funcs[0])"
   ]
  },
  {
   "cell_type": "code",
   "execution_count": 15,
   "metadata": {
    "collapsed": false
   },
   "outputs": [
    {
     "name": "stdout",
     "output_type": "stream",
     "text": [
      "    hello\n"
     ]
    }
   ],
   "source": [
    "def get_indent(func_line):\n",
    "    count = 0\n",
    "    for ch in funcs[0]:\n",
    "        if ch != ' ':\n",
    "            break\n",
    "        count += 1\n",
    "    return count\n",
    "print(' '*get_indent(funcs[0]) + 'hello')"
   ]
  },
  {
   "cell_type": "code",
   "execution_count": 10,
   "metadata": {
    "collapsed": false
   },
   "outputs": [
    {
     "data": {
      "text/plain": [
       "'    hello'"
      ]
     },
     "execution_count": 10,
     "metadata": {},
     "output_type": "execute_result"
    }
   ],
   "source": [
    "' '*4 + 'hello'"
   ]
  },
  {
   "cell_type": "code",
   "execution_count": 23,
   "metadata": {
    "collapsed": false,
    "deletable": true,
    "editable": true
   },
   "outputs": [],
   "source": [
    "f = open('wanglab_instruments/function_generators.py')\n",
    "text = f.readlines()\n",
    "f.close()"
   ]
  },
  {
   "cell_type": "code",
   "execution_count": 24,
   "metadata": {
    "collapsed": false,
    "deletable": true,
    "editable": true
   },
   "outputs": [],
   "source": [
    "prog = re.compile(text[10])"
   ]
  },
  {
   "cell_type": "code",
   "execution_count": 63,
   "metadata": {
    "collapsed": false,
    "deletable": true,
    "editable": true,
    "scrolled": true
   },
   "outputs": [
    {
     "name": "stdout",
     "output_type": "stream",
     "text": [
      "    def __init__(self,inst,freq_unit='MHz', pow_unit='dBm', \n",
      "\n",
      "                    max_power=13):\n",
      "\n",
      "    def get_freq_unit(self):\n",
      "\n",
      "    def set_freq_unit(self,freq):\n",
      "\n",
      "    def get_pow_unit(self):\n",
      "\n",
      "    def set_pow_unit(self,power):\n",
      "\n",
      "    def __repr__(self):\n",
      "\n",
      "    def set_frequency(self,freq,unit=None):\n",
      "\n",
      "    def get_frequency(self,unit=None):\n",
      "\n",
      "    def set_rf_on(self,on):\n",
      "\n",
      "    def get_rf_on(self):\n",
      "\n",
      "    def set_power(self,power,unit=None):\n",
      "\n",
      "    def get_power(self):\n",
      "\n",
      "    def __init__(self,inst, freq_unit='MHz', volt_unit='V', channel=1):\n",
      "\n",
      "    def get_freq_unit(self):\n",
      "\n",
      "    def set_freq_unit(self,freq):\n",
      "\n",
      "    def get_volt_unit(self):\n",
      "\n",
      "    def set_volt_unit(self,volt):\n",
      "\n",
      "    def get_channel(self):\n",
      "\n",
      "    def set_channel(self,channel):\n",
      "\n",
      "    def __repr__(self):\n",
      "\n",
      "    def set_frequency(self,freq,unit=None,channel=None):\n",
      "\n",
      "    def get_frequency(self,unit=None,channel=None):\n",
      "\n",
      "    def get_volt_low(self,channel=None,unit=None):\n",
      "\n",
      "    def set_volt_low(self,v,channel=None,unit=None):\n",
      "\n",
      "    def get_volt_high(self,channel=None,unit=None):\n",
      "\n",
      "    def set_volt_high(self,v,channel=None,unit=None):\n",
      "\n",
      "    def get_volt_offset(self,channel=None,unit=None):\n",
      "\n",
      "    def set_volt_offset(self,v,channel=None,unit=None):\n",
      "\n",
      "    def output(self,on,channel=None):\n",
      "\n",
      "    def get_waveform(self,channel=None):\n",
      "\n",
      "    def set_waveform(self,wave,channel=None):\n",
      "\n",
      "    def transfer_waveform(self,wvfrm,location=None,channel=None):\n",
      "\n",
      "    def get_burst(self,channel=None):\n",
      "\n",
      "    def set_burst(self,state,channel=None):\n",
      "\n",
      "    def get_burst_cycles(self,channel=None):\n",
      "\n",
      "    def set_burst_cycles(self,cycles,channel=None):\n",
      "\n",
      "    def get_burst_mode(self,channel=None):\n",
      "\n",
      "    def set_burst_mode(self,mode,channel=None):\n",
      "\n",
      "    def get_trigger_source(self):\n",
      "\n",
      "    def set_trigger_source(self,source):\n",
      "\n"
     ]
    }
   ],
   "source": [
    "s1 = re.compile(r'^\\s*def\\s[^\\s]*\\(.*\\):$')\n",
    "s2 = re.compile(r'^\\s*def\\s[^\\s]*\\(.*\\n$')\n",
    "s3 = re.compile(r'\\):$')\n",
    "print_next = False\n",
    "for line in text:\n",
    "    if re.search(s1,line):\n",
    "        print(line)\n",
    "    elif re.search(s2,line):\n",
    "        print_next = True\n",
    "#        print(line)\n",
    "    if print_next:\n",
    "        print(line)\n",
    "        if re.search(s3,line):\n",
    "            print_next = False"
   ]
  },
  {
   "cell_type": "code",
   "execution_count": 41,
   "metadata": {
    "collapsed": false,
    "deletable": true,
    "editable": true
   },
   "outputs": [
    {
     "data": {
      "text/plain": [
       "_sre.SRE_Match"
      ]
     },
     "execution_count": 41,
     "metadata": {},
     "output_type": "execute_result"
    }
   ],
   "source": [
    "type(re.search(m,text[52]))"
   ]
  },
  {
   "cell_type": "code",
   "execution_count": 6,
   "metadata": {
    "collapsed": false,
    "deletable": true,
    "editable": true
   },
   "outputs": [
    {
     "data": {
      "text/plain": [
       "'    def set_pow_unit(self,power):\\n'"
      ]
     },
     "execution_count": 6,
     "metadata": {},
     "output_type": "execute_result"
    }
   ],
   "source": [
    "text[52]"
   ]
  },
  {
   "cell_type": "code",
   "execution_count": 7,
   "metadata": {
    "collapsed": true,
    "deletable": true,
    "editable": true
   },
   "outputs": [],
   "source": [
    "l = text[52]"
   ]
  },
  {
   "cell_type": "code",
   "execution_count": 8,
   "metadata": {
    "collapsed": false,
    "deletable": true,
    "editable": true
   },
   "outputs": [],
   "source": [
    "prog = re.compile(l)"
   ]
  },
  {
   "cell_type": "code",
   "execution_count": 12,
   "metadata": {
    "collapsed": true,
    "deletable": true,
    "editable": true
   },
   "outputs": [],
   "source": [
    "x = prog.match('def')"
   ]
  },
  {
   "cell_type": "code",
   "execution_count": 14,
   "metadata": {
    "collapsed": false,
    "deletable": true,
    "editable": true
   },
   "outputs": [
    {
     "data": {
      "text/plain": [
       "NoneType"
      ]
     },
     "execution_count": 14,
     "metadata": {},
     "output_type": "execute_result"
    }
   ],
   "source": [
    "type(x)"
   ]
  },
  {
   "cell_type": "code",
   "execution_count": 15,
   "metadata": {
    "collapsed": false,
    "deletable": true,
    "editable": true
   },
   "outputs": [
    {
     "data": {
      "text/plain": [
       "_sre.SRE_Pattern"
      ]
     },
     "execution_count": 15,
     "metadata": {},
     "output_type": "execute_result"
    }
   ],
   "source": [
    "type(prog)"
   ]
  },
  {
   "cell_type": "code",
   "execution_count": 16,
   "metadata": {
    "collapsed": true,
    "deletable": true,
    "editable": true
   },
   "outputs": [],
   "source": [
    "m = re.search('def',l)"
   ]
  },
  {
   "cell_type": "code",
   "execution_count": 20,
   "metadata": {
    "collapsed": false,
    "deletable": true,
    "editable": true
   },
   "outputs": [
    {
     "data": {
      "text/plain": [
       "'def'"
      ]
     },
     "execution_count": 20,
     "metadata": {},
     "output_type": "execute_result"
    }
   ],
   "source": [
    "m.group()"
   ]
  },
  {
   "cell_type": "code",
   "execution_count": 31,
   "metadata": {
    "collapsed": false,
    "deletable": true,
    "editable": true
   },
   "outputs": [],
   "source": [
    "m = re.compile('def')"
   ]
  },
  {
   "cell_type": "code",
   "execution_count": 34,
   "metadata": {
    "collapsed": false,
    "deletable": true,
    "editable": true
   },
   "outputs": [
    {
     "name": "stdout",
     "output_type": "stream",
     "text": [
      "Help on function match in module re:\n",
      "\n",
      "match(pattern, string, flags=0)\n",
      "    Try to apply the pattern at the start of the string, returning\n",
      "    a match object, or None if no match was found.\n",
      "\n"
     ]
    }
   ],
   "source": [
    "help(re.match)"
   ]
  },
  {
   "cell_type": "code",
   "execution_count": 1,
   "metadata": {
    "collapsed": true,
    "deletable": true,
    "editable": true
   },
   "outputs": [],
   "source": [
    "import numpy as np"
   ]
  },
  {
   "cell_type": "code",
   "execution_count": 2,
   "metadata": {
    "collapsed": false,
    "deletable": true,
    "editable": true
   },
   "outputs": [
    {
     "name": "stdout",
     "output_type": "stream",
     "text": [
      "Help on function trapz in module numpy.lib.function_base:\n",
      "\n",
      "trapz(y, x=None, dx=1.0, axis=-1)\n",
      "    Integrate along the given axis using the composite trapezoidal rule.\n",
      "    \n",
      "    Integrate `y` (`x`) along given axis.\n",
      "    \n",
      "    Parameters\n",
      "    ----------\n",
      "    y : array_like\n",
      "        Input array to integrate.\n",
      "    x : array_like, optional\n",
      "        The sample points corresponding to the `y` values. If `x` is None,\n",
      "        the sample points are assumed to be evenly spaced `dx` apart. The\n",
      "        default is None.\n",
      "    dx : scalar, optional\n",
      "        The spacing between sample points when `x` is None. The default is 1.\n",
      "    axis : int, optional\n",
      "        The axis along which to integrate.\n",
      "    \n",
      "    Returns\n",
      "    -------\n",
      "    trapz : float\n",
      "        Definite integral as approximated by trapezoidal rule.\n",
      "    \n",
      "    See Also\n",
      "    --------\n",
      "    sum, cumsum\n",
      "    \n",
      "    Notes\n",
      "    -----\n",
      "    Image [2]_ illustrates trapezoidal rule -- y-axis locations of points\n",
      "    will be taken from `y` array, by default x-axis distances between\n",
      "    points will be 1.0, alternatively they can be provided with `x` array\n",
      "    or with `dx` scalar.  Return value will be equal to combined area under\n",
      "    the red lines.\n",
      "    \n",
      "    \n",
      "    References\n",
      "    ----------\n",
      "    .. [1] Wikipedia page: http://en.wikipedia.org/wiki/Trapezoidal_rule\n",
      "    \n",
      "    .. [2] Illustration image:\n",
      "           http://en.wikipedia.org/wiki/File:Composite_trapezoidal_rule_illustration.png\n",
      "    \n",
      "    Examples\n",
      "    --------\n",
      "    >>> np.trapz([1,2,3])\n",
      "    4.0\n",
      "    >>> np.trapz([1,2,3], x=[4,6,8])\n",
      "    8.0\n",
      "    >>> np.trapz([1,2,3], dx=2)\n",
      "    8.0\n",
      "    >>> a = np.arange(6).reshape(2, 3)\n",
      "    >>> a\n",
      "    array([[0, 1, 2],\n",
      "           [3, 4, 5]])\n",
      "    >>> np.trapz(a, axis=0)\n",
      "    array([ 1.5,  2.5,  3.5])\n",
      "    >>> np.trapz(a, axis=1)\n",
      "    array([ 2.,  8.])\n",
      "\n"
     ]
    }
   ],
   "source": [
    "help(np.trapz)"
   ]
  },
  {
   "cell_type": "code",
   "execution_count": null,
   "metadata": {
    "collapsed": true,
    "deletable": true,
    "editable": true
   },
   "outputs": [],
   "source": [
    "\n"
   ]
  }
 ],
 "metadata": {
  "kernelspec": {
   "display_name": "Python 3",
   "language": "python",
   "name": "python3"
  },
  "language_info": {
   "codemirror_mode": {
    "name": "ipython",
    "version": 3
   },
   "file_extension": ".py",
   "mimetype": "text/x-python",
   "name": "python",
   "nbconvert_exporter": "python",
   "pygments_lexer": "ipython3",
   "version": "3.4.3"
  }
 },
 "nbformat": 4,
 "nbformat_minor": 2
}
