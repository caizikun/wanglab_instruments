{
 "cells": [
  {
   "cell_type": "markdown",
   "metadata": {
    "deletable": true,
    "editable": true
   },
   "source": [
    "### Demonstration\n",
    "This notebook measures the frequency response of an electronic bandpass filter that passes the frequency range 9.5-11.5 MHz.  The spectrum analyzer is set to measure power in dBm."
   ]
  },
  {
   "cell_type": "code",
   "execution_count": 1,
   "metadata": {
    "collapsed": false,
    "deletable": true,
    "editable": true
   },
   "outputs": [],
   "source": [
    "%matplotlib inline\n",
    "import numpy as np\n",
    "import matplotlib.pyplot as plt\n",
    "from scipy.optimize import curve_fit\n",
    "import visa"
   ]
  },
  {
   "cell_type": "code",
   "execution_count": 2,
   "metadata": {
    "collapsed": false,
    "deletable": true,
    "editable": true
   },
   "outputs": [],
   "source": [
    "import wanglab_instruments as wl"
   ]
  },
  {
   "cell_type": "markdown",
   "metadata": {
    "deletable": true,
    "editable": true
   },
   "source": [
    "##### Helper function:\n",
    "\n",
    "Convenience function to convert dBm power to mW"
   ]
  },
  {
   "cell_type": "code",
   "execution_count": 3,
   "metadata": {
    "collapsed": false,
    "deletable": true,
    "editable": true
   },
   "outputs": [],
   "source": [
    "def unlog(y):\n",
    "    return 10**(y/10)"
   ]
  },
  {
   "cell_type": "markdown",
   "metadata": {
    "deletable": true,
    "editable": true
   },
   "source": [
    "###### Visa resources \n",
    "\n",
    "Creat visa Resource Manager and list available resources.  The spectrum analyzer is set to GPIB address 1, and the function generator to GPIB address 15"
   ]
  },
  {
   "cell_type": "code",
   "execution_count": 4,
   "metadata": {
    "collapsed": false,
    "deletable": true,
    "editable": true
   },
   "outputs": [],
   "source": [
    "rm = visa.ResourceManager()"
   ]
  },
  {
   "cell_type": "code",
   "execution_count": 5,
   "metadata": {
    "collapsed": false,
    "deletable": true,
    "editable": true
   },
   "outputs": [
    {
     "data": {
      "text/plain": [
       "(u'TCPIP0::10.10.1.128::INSTR',\n",
       " u'GPIB0::1::INSTR',\n",
       " u'GPIB0::4::INSTR',\n",
       " u'GPIB0::8::INSTR',\n",
       " u'GPIB0::11::INSTR',\n",
       " u'GPIB0::15::INSTR',\n",
       " u'GPIB0::19::INSTR',\n",
       " u'GPIB0::20::INSTR',\n",
       " u'GPIB0::21::INSTR')"
      ]
     },
     "execution_count": 5,
     "metadata": {},
     "output_type": "execute_result"
    }
   ],
   "source": [
    "rm.list_resources()"
   ]
  },
  {
   "cell_type": "code",
   "execution_count": 6,
   "metadata": {
    "collapsed": false,
    "deletable": true,
    "editable": true
   },
   "outputs": [],
   "source": [
    "# Instantiate Tek5103 object\n",
    "rsa = wl.spectrum_analyzers.Tek5103(rm.open_resource('GPIB0::1::INSTR'))"
   ]
  },
  {
   "cell_type": "code",
   "execution_count": 7,
   "metadata": {
    "collapsed": false,
    "deletable": true,
    "editable": true
   },
   "outputs": [],
   "source": [
    "# Instantiate Hp8647 object\n",
    "hp = wl.function_generators.Hp8647(rm.open_resource('GPIB0::15::INSTR'))"
   ]
  },
  {
   "cell_type": "code",
   "execution_count": 8,
   "metadata": {
    "collapsed": false,
    "deletable": true,
    "editable": true
   },
   "outputs": [],
   "source": [
    "# Set frequency range for analysis\n",
    "rsa.start_freq = 1\n",
    "rsa.stop_freq = 21\n",
    "# Let the spectrum analyer set the resolution bandwidth automatically\n",
    "rsa.rbw_auto = 1\n",
    "# Set no averaging on trace1\n",
    "rsa.set_averaging(1,1)"
   ]
  },
  {
   "cell_type": "code",
   "execution_count": 9,
   "metadata": {
    "collapsed": false,
    "deletable": true,
    "editable": true
   },
   "outputs": [],
   "source": [
    "# Set the output power of the function generator to -50 dBm\n",
    "hp.pow = -50\n",
    "# Turn on signal\n",
    "hp.rf_on = 1"
   ]
  },
  {
   "cell_type": "code",
   "execution_count": 10,
   "metadata": {
    "collapsed": false,
    "deletable": true,
    "editable": true
   },
   "outputs": [],
   "source": [
    "# Measure response r through filter at test frequencies f\n",
    "f = np.linspace(1,21,150)\n",
    "r = np.zeros(len(f))\n",
    "for i in range(len(f)):\n",
    "    # Set the output frequency of the function generator\n",
    "    hp.frequency = f[i] \n",
    "    # Start acquisition and acquire spectrum\n",
    "    rsa.restart_acquire()\n",
    "    x, y = rsa.read_spectrum(1)\n",
    "    # Measure the peak frequency response\n",
    "    r[i] = np.max(y)"
   ]
  },
  {
   "cell_type": "code",
   "execution_count": 12,
   "metadata": {
    "collapsed": false,
    "deletable": true,
    "editable": true
   },
   "outputs": [
    {
     "data": {
      "text/plain": [
       "<matplotlib.text.Text at 0x685ca10>"
      ]
     },
     "execution_count": 12,
     "metadata": {},
     "output_type": "execute_result"
    },
    {
     "data": {
      "image/png": "[encoded data removed]",
      "text/plain": [
       "<matplotlib.figure.Figure at 0x66077d0>"
      ]
     },
     "metadata": {},
     "output_type": "display_data"
    }
   ],
   "source": [
    "# Vertical lines correspond to the filters quoted frequency band\n",
    "fig = plt.figure()\n",
    "ax = fig.add_subplot(111)\n",
    "ax.plot(f,unlog(r),color='green')\n",
    "ax.axvline(9.5)\n",
    "ax.axvline(11.5)\n",
    "ax.set_xlabel(r'frequency (MHz)')\n",
    "ax.set_ylabel(r'response power (mW)')\n",
    "ax.set_title('Frequency Response of Bandpass Filter')"
   ]
  }
 ],
 "metadata": {
  "kernelspec": {
   "display_name": "Python 3",
   "language": "python",
   "name": "python3"
  },
  "language_info": {
   "codemirror_mode": {
    "name": "ipython",
    "version": 3
   },
   "file_extension": ".py",
   "mimetype": "text/x-python",
   "name": "python",
   "nbconvert_exporter": "python",
   "pygments_lexer": "ipython3",
   "version": "3.4.3"
  }
 },
 "nbformat": 4,
 "nbformat_minor": 0
}
