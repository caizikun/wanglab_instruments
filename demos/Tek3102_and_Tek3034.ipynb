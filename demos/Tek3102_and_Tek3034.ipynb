{
 "cells": [
  {
   "cell_type": "markdown",
   "metadata": {
    "deletable": true,
    "editable": true
   },
   "source": [
    "### Demonstration\n",
    "\n",
    "Controlling output channels on a 2 channel Tek3102 function generator, and measuring the waveforms on a Tek3034 oscilloscope."
   ]
  },
  {
   "cell_type": "code",
   "execution_count": 1,
   "metadata": {
    "collapsed": false,
    "deletable": true,
    "editable": true
   },
   "outputs": [],
   "source": [
    "%matplotlib inline\n",
    "import numpy as np\n",
    "import matplotlib.pyplot as plt\n",
    "import visa"
   ]
  },
  {
   "cell_type": "code",
   "execution_count": 2,
   "metadata": {
    "collapsed": false,
    "deletable": true,
    "editable": true
   },
   "outputs": [],
   "source": [
    "import wanglab_instruments as wl"
   ]
  },
  {
   "cell_type": "code",
   "execution_count": 3,
   "metadata": {
    "collapsed": false,
    "deletable": true,
    "editable": true
   },
   "outputs": [
    {
     "data": {
      "text/plain": [
       "(u'TCPIP0::10.10.1.128::INSTR',\n",
       " u'GPIB0::1::INSTR',\n",
       " u'GPIB0::4::INSTR',\n",
       " u'GPIB0::8::INSTR',\n",
       " u'GPIB0::11::INSTR',\n",
       " u'GPIB0::15::INSTR',\n",
       " u'GPIB0::19::INSTR',\n",
       " u'GPIB0::20::INSTR',\n",
       " u'GPIB0::21::INSTR')"
      ]
     },
     "execution_count": 3,
     "metadata": {},
     "output_type": "execute_result"
    }
   ],
   "source": [
    "# Tek3102 on GPIB address 4\n",
    "# Tek3034 on GPIB address 20\n",
    "rm = visa.ResourceManager()\n",
    "rm.list_resources()"
   ]
  },
  {
   "cell_type": "code",
   "execution_count": 4,
   "metadata": {
    "collapsed": false,
    "deletable": true,
    "editable": true
   },
   "outputs": [],
   "source": [
    "# Create 2 instances of Tek3102, one for each channel, with default frequency unit in Hz\n",
    "afg1 = wl.function_generators.Tek3102(rm.open_resource('GPIB0::4::INSTR'),freq_unit='Hz')\n",
    "afg2 = wl.function_generators.Tek3102(rm.open_resource('GPIB0::4::INSTR'),freq_unit='Hz', channel=2)"
   ]
  },
  {
   "cell_type": "code",
   "execution_count": 5,
   "metadata": {
    "collapsed": false,
    "deletable": true,
    "editable": true
   },
   "outputs": [
    {
     "name": "stdout",
     "output_type": "stream",
     "text": [
      "Tek3102(<'GPIBInstrument'(u'GPIB0::4::INSTR')>, 'Hz', 'V', channel=1)\n",
      "Tek3102(<'GPIBInstrument'(u'GPIB0::4::INSTR')>, 'Hz', 'V', channel=2)\n"
     ]
    }
   ],
   "source": [
    "# View the objects to make sure they have the correct attributes\n",
    "print(afg1)\n",
    "print(afg2)"
   ]
  },
  {
   "cell_type": "code",
   "execution_count": 6,
   "metadata": {
    "collapsed": false,
    "deletable": true,
    "editable": true
   },
   "outputs": [],
   "source": [
    "# Creat Tek3034 scope object\n",
    "scope = wl.oscilloscopes.Tek3034(rm.open_resource('GPIB0::20::INSTR'))"
   ]
  },
  {
   "cell_type": "code",
   "execution_count": 7,
   "metadata": {
    "collapsed": false,
    "deletable": true,
    "editable": true
   },
   "outputs": [
    {
     "name": "stdout",
     "output_type": "stream",
     "text": [
      "Help on method set_waveform in module wanglab_instruments.function_generators:\n",
      "\n",
      "set_waveform(self, wave, channel=None) method of wanglab_instruments.function_generators.Tek3102 instance\n",
      "    set_waveform(self,wave,channel=None):        \n",
      "    \n",
      "    set the value of waveform        \n",
      "    valid waveforms:\n",
      "       { SINusoid|SQUare|PULse|RAMP|PRNoise|DC|SINC|GAUSsian|LORentz|\n",
      "       ERISe|EDECay|HAVersine|USER[1]|USER2|USER3|USER4|EMEMory|EFILe }\n",
      "    \n",
      "    Args:\n",
      "        wave (str) : one of valid waveforms\n",
      "        channel (int, optional) : { 1 | 2 }\n",
      "    \n",
      "    Returns:\n",
      "        None\n",
      "\n"
     ]
    }
   ],
   "source": [
    "# View valid waveforms\n",
    "help(afg1.set_waveform)"
   ]
  },
  {
   "cell_type": "code",
   "execution_count": 8,
   "metadata": {
    "collapsed": false,
    "deletable": true,
    "editable": true
   },
   "outputs": [],
   "source": [
    "# Set channel 1 to sinc waveform w/ 40 Hz frequency and turn on the channel\n",
    "afg1.waveform = 'SINC'\n",
    "afg1.frequency = 40\n",
    "afg1.output(1)"
   ]
  },
  {
   "cell_type": "code",
   "execution_count": 9,
   "metadata": {
    "collapsed": false,
    "deletable": true,
    "editable": true
   },
   "outputs": [],
   "source": [
    "# Set channel 2 to decaying exponential with same frequency as channel 1, turn on the channel\n",
    "afg2.waveform = 'EDEC'\n",
    "afg2.frequency = afg1.frequency\n",
    "afg2.output(1)"
   ]
  },
  {
   "cell_type": "code",
   "execution_count": 10,
   "metadata": {
    "collapsed": false,
    "deletable": true,
    "editable": true
   },
   "outputs": [],
   "source": [
    "# Collect waveforms from scope\n",
    "ch3 = scope.fetch_spectrum(3)\n",
    "ch4 = scope.fetch_spectrum(4)"
   ]
  },
  {
   "cell_type": "code",
   "execution_count": 11,
   "metadata": {
    "collapsed": false,
    "deletable": true,
    "editable": true
   },
   "outputs": [
    {
     "data": {
      "text/plain": [
       "[<matplotlib.lines.Line2D at 0x6487130>]"
      ]
     },
     "execution_count": 11,
     "metadata": {},
     "output_type": "execute_result"
    },
    {
     "data": {
      "image/png": "[encoded data removed]",
      "text/plain": [
       "<matplotlib.figure.Figure at 0x6487170>"
      ]
     },
     "metadata": {},
     "output_type": "display_data"
    }
   ],
   "source": [
    "plt.plot(ch3[0],ch3[1])\n",
    "plt.plot(ch4[0],ch4[1])"
   ]
  },
  {
   "cell_type": "code",
   "execution_count": 12,
   "metadata": {
    "collapsed": false,
    "deletable": true,
    "editable": true
   },
   "outputs": [],
   "source": [
    "# We can also collect the waveforms as they are seen on the scope display, which includes an adjustable\n",
    "# verticle offset\n",
    "ch3_off = scope.fetch_spectrum(3,offset=True)\n",
    "ch4_off = scope.fetch_spectrum(4,offset=True)"
   ]
  },
  {
   "cell_type": "code",
   "execution_count": 13,
   "metadata": {
    "collapsed": false,
    "deletable": true,
    "editable": true
   },
   "outputs": [
    {
     "data": {
      "text/plain": [
       "[<matplotlib.lines.Line2D at 0x64870d0>]"
      ]
     },
     "execution_count": 13,
     "metadata": {},
     "output_type": "execute_result"
    },
    {
     "data": {
      "image/png": "[encoded data removed]",
      "text/plain": [
       "<matplotlib.figure.Figure at 0x6487250>"
      ]
     },
     "metadata": {},
     "output_type": "display_data"
    }
   ],
   "source": [
    "plt.plot(ch3_off[0],ch3_off[1])\n",
    "plt.plot(ch4_off[0],ch4_off[1])"
   ]
  }
 ],
 "metadata": {
  "kernelspec": {
   "display_name": "Python 3",
   "language": "python",
   "name": "python3"
  },
  "language_info": {
   "codemirror_mode": {
    "name": "ipython",
    "version": 3
   },
   "file_extension": ".py",
   "mimetype": "text/x-python",
   "name": "python",
   "nbconvert_exporter": "python",
   "pygments_lexer": "ipython3",
   "version": "3.4.3"
  }
 },
 "nbformat": 4,
 "nbformat_minor": 0
}
